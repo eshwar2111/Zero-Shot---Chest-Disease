{
 "cells": [
  {
   "cell_type": "code",
   "execution_count": 1,
   "id": "5d23235d",
   "metadata": {
    "execution": {
     "iopub.execute_input": "2024-11-10T15:10:36.457060Z",
     "iopub.status.busy": "2024-11-10T15:10:36.456589Z",
     "iopub.status.idle": "2024-11-10T15:10:46.749876Z",
     "shell.execute_reply": "2024-11-10T15:10:46.749014Z"
    },
    "papermill": {
     "duration": 10.30166,
     "end_time": "2024-11-10T15:10:46.752242",
     "exception": false,
     "start_time": "2024-11-10T15:10:36.450582",
     "status": "completed"
    },
    "tags": []
   },
   "outputs": [],
   "source": [
    "import os\n",
    "import pandas as pd\n",
    "from PIL import Image\n",
    "import torch\n",
    "from torch.utils.data import Dataset, DataLoader\n",
    "import torch.nn as nn\n",
    "import torch.optim as optim\n",
    "import torch.nn.functional as F\n",
    "from torchvision import transforms\n",
    "from sklearn.metrics import accuracy_score, precision_score, recall_score, f1_score"
   ]
  },
  {
   "cell_type": "code",
   "execution_count": 2,
   "id": "3ffcb276",
   "metadata": {
    "execution": {
     "iopub.execute_input": "2024-11-10T15:10:46.761736Z",
     "iopub.status.busy": "2024-11-10T15:10:46.761272Z",
     "iopub.status.idle": "2024-11-10T15:10:46.765991Z",
     "shell.execute_reply": "2024-11-10T15:10:46.765143Z"
    },
    "papermill": {
     "duration": 0.011312,
     "end_time": "2024-11-10T15:10:46.767852",
     "exception": false,
     "start_time": "2024-11-10T15:10:46.756540",
     "status": "completed"
    },
    "tags": []
   },
   "outputs": [],
   "source": [
    "disease_labels = [\n",
    "    \"Atelectasis\", \"Cardiomegaly\", \"Consolidation\", \"Edema\", \"Effusion\",\n",
    "    \"Emphysema\", \"Fibrosis\", \"Hernia\", \"Infiltration\", \"Mass\", \n",
    "    \"No Finding\", \"Nodule\", \"Pleural_Thickening\", \"Pneumonia\", \"Pneumothorax\"\n",
    "]"
   ]
  },
  {
   "cell_type": "code",
   "execution_count": 3,
   "id": "10a94fa9",
   "metadata": {
    "execution": {
     "iopub.execute_input": "2024-11-10T15:10:46.776495Z",
     "iopub.status.busy": "2024-11-10T15:10:46.776201Z",
     "iopub.status.idle": "2024-11-10T15:10:46.779965Z",
     "shell.execute_reply": "2024-11-10T15:10:46.779155Z"
    },
    "papermill": {
     "duration": 0.010241,
     "end_time": "2024-11-10T15:10:46.781877",
     "exception": false,
     "start_time": "2024-11-10T15:10:46.771636",
     "status": "completed"
    },
    "tags": []
   },
   "outputs": [],
   "source": [
    "csv_file = '/kaggle/input/zsl-dataset1/Data_Entry_2017.csv'  # Path to the CSV file\n",
    "image_dir = '/kaggle/input/zsl-dataset4'  "
   ]
  },
  {
   "cell_type": "code",
   "execution_count": 4,
   "id": "7fa3c98c",
   "metadata": {
    "execution": {
     "iopub.execute_input": "2024-11-10T15:10:46.790461Z",
     "iopub.status.busy": "2024-11-10T15:10:46.790165Z",
     "iopub.status.idle": "2024-11-10T15:10:47.305609Z",
     "shell.execute_reply": "2024-11-10T15:10:47.304587Z"
    },
    "papermill": {
     "duration": 0.522461,
     "end_time": "2024-11-10T15:10:47.308008",
     "exception": false,
     "start_time": "2024-11-10T15:10:46.785547",
     "status": "completed"
    },
    "tags": []
   },
   "outputs": [],
   "source": [
    "df = pd.read_csv(csv_file)\n",
    "available_images = {img for img in os.listdir(image_dir) if img.endswith('.png') or img.endswith('.jpg')}\n",
    "df = df[df['Image Index'].isin(available_images)].reset_index(drop=True)\n"
   ]
  },
  {
   "cell_type": "code",
   "execution_count": 5,
   "id": "8585e211",
   "metadata": {
    "execution": {
     "iopub.execute_input": "2024-11-10T15:10:47.317187Z",
     "iopub.status.busy": "2024-11-10T15:10:47.316600Z",
     "iopub.status.idle": "2024-11-10T15:10:47.325921Z",
     "shell.execute_reply": "2024-11-10T15:10:47.325136Z"
    },
    "papermill": {
     "duration": 0.015826,
     "end_time": "2024-11-10T15:10:47.327746",
     "exception": false,
     "start_time": "2024-11-10T15:10:47.311920",
     "status": "completed"
    },
    "tags": []
   },
   "outputs": [],
   "source": [
    "class MedicalImageDataset(Dataset):\n",
    "    def __init__(self, dataframe, img_dir, transform=None):\n",
    "        self.dataframe = dataframe\n",
    "        self.img_dir = img_dir\n",
    "        self.transform = transform\n",
    "        self.label_to_index = {label: idx for idx, label in enumerate(disease_labels)}\n",
    "\n",
    "    def __len__(self):\n",
    "        return len(self.dataframe)\n",
    "\n",
    "    def encode_labels(self, labels):\n",
    "        label_vector = torch.zeros(len(disease_labels), dtype=torch.float32)\n",
    "        for label in labels.split('|'):\n",
    "            if label in self.label_to_index:\n",
    "                label_vector[self.label_to_index[label]] = 1\n",
    "        return label_vector\n",
    "\n",
    "    def __getitem__(self, idx):\n",
    "        img_name = os.path.join(self.img_dir, self.dataframe.iloc[idx, 0])\n",
    "        image = Image.open(img_name).convert('L')  # Convert to grayscale if required\n",
    "\n",
    "        # Apply transformations to the image\n",
    "        if self.transform:\n",
    "            image = self.transform(image)\n",
    "\n",
    "        # Encode multilabel for the \"Finding Labels\" column\n",
    "        labels = self.dataframe.iloc[idx, 1]\n",
    "        label_vector = self.encode_labels(labels)\n",
    "\n",
    "        return {'image': image, 'label': label_vector}"
   ]
  },
  {
   "cell_type": "code",
   "execution_count": 6,
   "id": "4d46a31a",
   "metadata": {
    "execution": {
     "iopub.execute_input": "2024-11-10T15:10:47.336508Z",
     "iopub.status.busy": "2024-11-10T15:10:47.336178Z",
     "iopub.status.idle": "2024-11-10T15:10:47.341669Z",
     "shell.execute_reply": "2024-11-10T15:10:47.340752Z"
    },
    "papermill": {
     "duration": 0.011872,
     "end_time": "2024-11-10T15:10:47.343470",
     "exception": false,
     "start_time": "2024-11-10T15:10:47.331598",
     "status": "completed"
    },
    "tags": []
   },
   "outputs": [],
   "source": [
    "transform = transforms.Compose([\n",
    "    transforms.Resize((128, 128)),\n",
    "    transforms.ToTensor(),\n",
    "])\n",
    "\n",
    "# Instantiate the dataset and dataloader\n",
    "dataset = MedicalImageDataset(dataframe=df, img_dir=image_dir, transform=transform)\n",
    "dataloader = DataLoader(dataset, batch_size=16, shuffle=True)"
   ]
  },
  {
   "cell_type": "code",
   "execution_count": 7,
   "id": "53b12ddd",
   "metadata": {
    "execution": {
     "iopub.execute_input": "2024-11-10T15:10:47.353467Z",
     "iopub.status.busy": "2024-11-10T15:10:47.353150Z",
     "iopub.status.idle": "2024-11-10T15:10:47.361055Z",
     "shell.execute_reply": "2024-11-10T15:10:47.360300Z"
    },
    "papermill": {
     "duration": 0.015701,
     "end_time": "2024-11-10T15:10:47.362955",
     "exception": false,
     "start_time": "2024-11-10T15:10:47.347254",
     "status": "completed"
    },
    "tags": []
   },
   "outputs": [],
   "source": [
    "class SimpleCNN(nn.Module):\n",
    "    def __init__(self, num_labels):\n",
    "        super(SimpleCNN, self).__init__()\n",
    "        self.conv1 = nn.Conv2d(1, 32, kernel_size=3, stride=1, padding=1)\n",
    "        self.pool = nn.MaxPool2d(kernel_size=2, stride=2, padding=0)\n",
    "        self.conv2 = nn.Conv2d(32, 64, kernel_size=3, stride=1, padding=1)\n",
    "        self.fc1 = nn.Linear(64 * 32 * 32, 128)\n",
    "        self.fc2 = nn.Linear(128, num_labels)\n",
    "        self.sigmoid = nn.Sigmoid()\n",
    "\n",
    "    def forward(self, x):\n",
    "        x = self.pool(F.relu(self.conv1(x)))\n",
    "        x = self.pool(F.relu(self.conv2(x)))\n",
    "        x = x.view(-1, 64 * 32 * 32)\n",
    "        x = F.relu(self.fc1(x))\n",
    "        x = self.sigmoid(self.fc2(x))\n",
    "        return x"
   ]
  },
  {
   "cell_type": "code",
   "execution_count": 8,
   "id": "61443b92",
   "metadata": {
    "execution": {
     "iopub.execute_input": "2024-11-10T15:10:47.371499Z",
     "iopub.status.busy": "2024-11-10T15:10:47.371219Z",
     "iopub.status.idle": "2024-11-10T15:10:47.483746Z",
     "shell.execute_reply": "2024-11-10T15:10:47.483021Z"
    },
    "papermill": {
     "duration": 0.119286,
     "end_time": "2024-11-10T15:10:47.485935",
     "exception": false,
     "start_time": "2024-11-10T15:10:47.366649",
     "status": "completed"
    },
    "tags": []
   },
   "outputs": [],
   "source": [
    "model = SimpleCNN(num_labels=len(disease_labels))\n",
    "criterion = nn.BCELoss()  # Binary Cross-Entropy for multilabel classification\n",
    "optimizer = optim.Adam(model.parameters(), lr=0.001)\n"
   ]
  },
  {
   "cell_type": "code",
   "execution_count": 9,
   "id": "939bcd65",
   "metadata": {
    "execution": {
     "iopub.execute_input": "2024-11-10T15:10:47.494476Z",
     "iopub.status.busy": "2024-11-10T15:10:47.494195Z",
     "iopub.status.idle": "2024-11-10T15:10:47.732349Z",
     "shell.execute_reply": "2024-11-10T15:10:47.731435Z"
    },
    "papermill": {
     "duration": 0.244631,
     "end_time": "2024-11-10T15:10:47.734371",
     "exception": false,
     "start_time": "2024-11-10T15:10:47.489740",
     "status": "completed"
    },
    "tags": []
   },
   "outputs": [
    {
     "data": {
      "text/plain": [
       "SimpleCNN(\n",
       "  (conv1): Conv2d(1, 32, kernel_size=(3, 3), stride=(1, 1), padding=(1, 1))\n",
       "  (pool): MaxPool2d(kernel_size=2, stride=2, padding=0, dilation=1, ceil_mode=False)\n",
       "  (conv2): Conv2d(32, 64, kernel_size=(3, 3), stride=(1, 1), padding=(1, 1))\n",
       "  (fc1): Linear(in_features=65536, out_features=128, bias=True)\n",
       "  (fc2): Linear(in_features=128, out_features=15, bias=True)\n",
       "  (sigmoid): Sigmoid()\n",
       ")"
      ]
     },
     "execution_count": 9,
     "metadata": {},
     "output_type": "execute_result"
    }
   ],
   "source": [
    "device = torch.device(\"cuda\" if torch.cuda.is_available() else \"cpu\")\n",
    "model.to(device)"
   ]
  },
  {
   "cell_type": "code",
   "execution_count": 10,
   "id": "10543ce3",
   "metadata": {
    "execution": {
     "iopub.execute_input": "2024-11-10T15:10:47.744068Z",
     "iopub.status.busy": "2024-11-10T15:10:47.743745Z",
     "iopub.status.idle": "2024-11-10T15:12:18.680063Z",
     "shell.execute_reply": "2024-11-10T15:12:18.679143Z"
    },
    "papermill": {
     "duration": 90.94361,
     "end_time": "2024-11-10T15:12:18.682278",
     "exception": false,
     "start_time": "2024-11-10T15:10:47.738668",
     "status": "completed"
    },
    "tags": []
   },
   "outputs": [
    {
     "name": "stdout",
     "output_type": "stream",
     "text": [
      "Epoch [1/5], Loss: 0.2752\n",
      "Epoch [2/5], Loss: 0.2491\n",
      "Epoch [3/5], Loss: 0.2366\n",
      "Epoch [4/5], Loss: 0.2258\n",
      "Epoch [5/5], Loss: 0.2143\n",
      "Training complete.\n"
     ]
    }
   ],
   "source": [
    "import torch.nn.functional as F\n",
    "num_epochs = 5  # Set number of epochs\n",
    "for epoch in range(num_epochs):\n",
    "    model.train()\n",
    "    running_loss = 0.0\n",
    "    for batch in dataloader:\n",
    "        images = batch['image'].to(device)\n",
    "        labels = batch['label'].to(device)\n",
    "\n",
    "        # Zero the parameter gradients\n",
    "        optimizer.zero_grad()\n",
    "\n",
    "        # Forward pass\n",
    "        outputs = model(images)\n",
    "        loss = criterion(outputs, labels)\n",
    "\n",
    "        # Backward pass and optimization\n",
    "        loss.backward()\n",
    "        optimizer.step()\n",
    "\n",
    "        running_loss += loss.item()\n",
    "\n",
    "    # Print average loss per epoch\n",
    "    print(f\"Epoch [{epoch+1}/{num_epochs}], Loss: {running_loss / len(dataloader):.4f}\")\n",
    "\n",
    "print(\"Training complete.\")"
   ]
  },
  {
   "cell_type": "code",
   "execution_count": null,
   "id": "7069b9a1",
   "metadata": {
    "papermill": {
     "duration": 0.00422,
     "end_time": "2024-11-10T15:12:18.690866",
     "exception": false,
     "start_time": "2024-11-10T15:12:18.686646",
     "status": "completed"
    },
    "tags": []
   },
   "outputs": [],
   "source": []
  }
 ],
 "metadata": {
  "kaggle": {
   "accelerator": "gpu",
   "dataSources": [
    {
     "datasetId": 6046454,
     "sourceId": 9853427,
     "sourceType": "datasetVersion"
    },
    {
     "datasetId": 6046491,
     "sourceId": 9853470,
     "sourceType": "datasetVersion"
    },
    {
     "datasetId": 6048084,
     "sourceId": 9855615,
     "sourceType": "datasetVersion"
    },
    {
     "datasetId": 6050928,
     "sourceId": 9859611,
     "sourceType": "datasetVersion"
    }
   ],
   "dockerImageVersionId": 30787,
   "isGpuEnabled": true,
   "isInternetEnabled": true,
   "language": "python",
   "sourceType": "notebook"
  },
  "kernelspec": {
   "display_name": "Python 3",
   "language": "python",
   "name": "python3"
  },
  "language_info": {
   "codemirror_mode": {
    "name": "ipython",
    "version": 3
   },
   "file_extension": ".py",
   "mimetype": "text/x-python",
   "name": "python",
   "nbconvert_exporter": "python",
   "pygments_lexer": "ipython3",
   "version": "3.10.14"
  },
  "papermill": {
   "default_parameters": {},
   "duration": 108.155472,
   "end_time": "2024-11-10T15:12:21.034608",
   "environment_variables": {},
   "exception": null,
   "input_path": "__notebook__.ipynb",
   "output_path": "__notebook__.ipynb",
   "parameters": {},
   "start_time": "2024-11-10T15:10:32.879136",
   "version": "2.6.0"
  }
 },
 "nbformat": 4,
 "nbformat_minor": 5
}
